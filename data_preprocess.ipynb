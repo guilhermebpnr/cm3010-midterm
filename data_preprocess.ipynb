{
 "cells": [
  {
   "cell_type": "code",
   "execution_count": null,
   "id": "9d404138-6595-4d1b-8568-6c5b6ef2d5bd",
   "metadata": {},
   "outputs": [],
   "source": [
    "import pandas as pd\n",
    "\n",
    "responses_data = pd.read_csv(\"./Connection_to_Nature_Data.csv\")\n",
    "responses_data.head()"
   ]
  },
  {
   "cell_type": "code",
   "execution_count": null,
   "id": "b17883e1-03eb-4595-bffa-9c64f416ba51",
   "metadata": {},
   "outputs": [],
   "source": [
    "questions_data = pd.read_csv(\"questions.csv\", delimiter=\";\")\n",
    "questions_data.head()"
   ]
  },
  {
   "cell_type": "code",
   "execution_count": null,
   "id": "2fb85db7-2eeb-416e-a969-934902305fb3",
   "metadata": {},
   "outputs": [],
   "source": [
    "# Preprocess participants data\n",
    "participants_df = pd.DataFrame({\n",
    "    \"ParticipantID\": range(1, len(responses_data) + 1),\n",
    "    \"Age\": responses_data[\"D_Age\"],\n",
    "    \"Gender\": responses_data[\"D_Gender\"].map({\"1\": \"Male\", \"2\": \"Female\"}),  # Map gender codes\n",
    "    \"Nationality\": responses_data[\"D_Nation\"],\n",
    "    \"HoursSpentInNature\": responses_data[\"D_hours\"]\n",
    "})\n",
    "\n",
    "# Export table to CSV\n",
    "participants_df.to_csv(\"Participants.csv\", index=False)"
   ]
  },
  {
   "cell_type": "code",
   "execution_count": null,
   "id": "971fc833-5ace-4118-b5e1-4523d448eb18",
   "metadata": {},
   "outputs": [],
   "source": [
    "# Preprocess activities data\n",
    "# Handle missing or invalid data in D_activities\n",
    "responses_data[\"D_activities\"] = responses_data[\"D_activities\"].fillna(\"\").astype(str)\n",
    "\n",
    "# Extract unique activities from the dataset\n",
    "unique_activities = set(\n",
    "    activity.strip().lower() for activities in responses_data[\"D_activities\"] for activity in activities.split(\",\") if activity.strip()\n",
    ")\n",
    "\n",
    "# Create the Activities table with consistent formatting\n",
    "activities_df = pd.DataFrame({\n",
    "    \"ActivityID\": range(1, len(unique_activities) + 1),\n",
    "    \"ActivityName\": list(unique_activities)\n",
    "})\n",
    "\n",
    "# Map Participants to Activities\n",
    "participant_activities = []\n",
    "for participant_id, activities in enumerate(responses_data[\"D_activities\"], start=1):\n",
    "    for activity in activities.split(\",\"):\n",
    "        activity_name = activity.strip().lower()\n",
    "        # Ensure the activity exists in the Activities dataframe\n",
    "        matching_activity = activities_df.loc[activities_df[\"ActivityName\"] == activity_name]\n",
    "        if not matching_activity.empty:\n",
    "            activity_id = matching_activity[\"ActivityID\"].values[0]\n",
    "            participant_activities.append({\"ParticipantID\": participant_id, \"ActivityID\": activity_id})\n",
    "        else:\n",
    "            print(f\"Activity '{activity_name}' not found in Activities table.\")\n",
    "\n",
    "# Create the Participants_Activities table\n",
    "participants_activities_df = pd.DataFrame(participant_activities)\n",
    "\n",
    "# Export tables to CSV\n",
    "activities_df.to_csv(\"Activities.csv\", index=False)\n",
    "participants_activities_df.to_csv(\"Participants_Activities.csv\", index=False)\n"
   ]
  },
  {
   "cell_type": "code",
   "execution_count": null,
   "id": "f0920f40-b228-45f3-ae81-929ac650b223",
   "metadata": {},
   "outputs": [],
   "source": [
    "# Preprocess allotment participation data\n",
    "allotment_participation_df = pd.DataFrame({\n",
    "    \"AllotmentID\": range(1, len(responses_data) + 1),\n",
    "    \"ParticipantID\": range(1, len(responses_data) + 1),\n",
    "    \"OwnsAllotment\": responses_data[\"D_allot\"].map({1: \"1\", 2: \"0\"}),\n",
    "    \"ParticipatesInGroup\": responses_data[\"D_group\"].map({1: \"1\", 2: \"0\"})\n",
    "})\n",
    "\n",
    "# Export table to CSV\n",
    "allotment_participation_df.to_csv(\"AllotmentParticipation.csv\", index=False)"
   ]
  },
  {
   "cell_type": "code",
   "execution_count": null,
   "id": "e996cc1b-e1a2-4d61-88f2-2eac824fb23b",
   "metadata": {},
   "outputs": [],
   "source": [
    "# Preprocess answer types data\n",
    "# Extract unique answer types from the `Values` column\n",
    "answer_types_df = questions_data[[\"Values\"]].drop_duplicates().reset_index(drop=True)\n",
    "answer_types_df[\"AnswerTypeID\"] = range(1, len(answer_types_df) + 1)\n",
    "answer_types_df = answer_types_df.rename(columns={\"Values\": \"AnswerOptions\"})\n",
    "answer_types_df[\"ScaleType\"] = \"Likert\"\n",
    "answer_types_df[\"Description\"] = \"Extracted scale type from provided values\"\n",
    "\n",
    "# Export table to CSV\n",
    "answer_types_df.to_csv(\"AnswerTypes.csv\", index=False)"
   ]
  },
  {
   "cell_type": "code",
   "execution_count": null,
   "id": "4e7d129c-daaa-4ad3-b4b7-6dec8abec3bf",
   "metadata": {},
   "outputs": [],
   "source": [
    "# Check the largest value size in AnswerTypes.AnswerOptions\n",
    "max_length_answer_options = answer_types_df['AnswerOptions'].astype(str).map(len).max()\n",
    "print(f\"The largest value size in AnswerTypes.AnswerOptions is: {max_length_answer_options} characters\")"
   ]
  },
  {
   "cell_type": "code",
   "execution_count": null,
   "id": "4dd4c2de-4f4c-4d99-a71f-72d760ff1025",
   "metadata": {},
   "outputs": [],
   "source": [
    "# Preprocess questions data\n",
    "# Map AnswerTypeID to the Questions table\n",
    "questions_data = questions_data.merge(answer_types_df, left_on=\"Values\", right_on=\"AnswerOptions\")\n",
    "questions_data[\"QuestionID\"] = range(1, len(questions_data) + 1)\n",
    "\n",
    "# Select and reorder columns for the questions Table\n",
    "questions_df = questions_data[[\"QuestionID\", \"Section title\", \"Code\", \"Item\", \"AnswerTypeID\"]].rename(columns={\n",
    "    \"Section title\": \"Section\",\n",
    "    \"Code\": \"Code\",\n",
    "    \"Item\": \"Item\"\n",
    "})\n",
    "\n",
    "# Export table to CSV files\n",
    "questions_df.to_csv(\"Questions.csv\", index=False)"
   ]
  },
  {
   "cell_type": "code",
   "execution_count": null,
   "id": "b87a3131-4881-4c0e-9877-46304026307f",
   "metadata": {},
   "outputs": [],
   "source": [
    "# Check the largest value size in Questions.Item\n",
    "max_length = questions_df[\"Item\"].astype(str).apply(len).max()\n",
    "print(f\"The largest value in 'Questions.Item' has {max_length} characters.\")"
   ]
  },
  {
   "cell_type": "code",
   "execution_count": null,
   "id": "d851a463-96de-4bcd-acb4-299919eeadc9",
   "metadata": {},
   "outputs": [],
   "source": [
    "# 7. Preprocess survey responses data\n",
    "survey_responses = []\n",
    "for participant_id, row in responses_data.iterrows():\n",
    "    for question_code in questions_df[\"Code\"]:\n",
    "        if question_code in row:\n",
    "            survey_responses.append({\n",
    "                \"ParticipantID\": participant_id + 1,\n",
    "                \"QuestionID\": questions_df.loc[questions_df[\"Code\"] == question_code, \"QuestionID\"].values[0],\n",
    "                \"AnswerValue\": row[question_code]\n",
    "            })\n",
    "survey_responses_df = pd.DataFrame(survey_responses)\n",
    "\n",
    "# Export table to CSV files\n",
    "survey_responses_df.to_csv(\"SurveyResponses.csv\", index=False)"
   ]
  }
 ],
 "metadata": {
  "kernelspec": {
   "display_name": "Python 3 (ipykernel)",
   "language": "python",
   "name": "python3"
  },
  "language_info": {
   "codemirror_mode": {
    "name": "ipython",
    "version": 3
   },
   "file_extension": ".py",
   "mimetype": "text/x-python",
   "name": "python",
   "nbconvert_exporter": "python",
   "pygments_lexer": "ipython3",
   "version": "3.9.19"
  }
 },
 "nbformat": 4,
 "nbformat_minor": 5
}
